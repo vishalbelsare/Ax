{
  "cells": [
    {
      "attachments": {},
      "cell_type": "markdown",
      "metadata": {
        "originalKey": "6dba2bea-d97e-4545-9803-4242850e1807"
      },
      "source": [
        "# Ax Service API with RayTune on PyTorch CNN\n",
        "\n",
        "Ax integrates easily with different scheduling frameworks and distributed training frameworks. In this example, Ax-driven optimization is executed in a distributed fashion using [RayTune](https://ray.readthedocs.io/en/latest/tune.html). \n",
        "\n",
        "RayTune is a scalable framework for hyperparameter tuning that provides many state-of-the-art hyperparameter tuning algorithms and seamlessly scales from laptop to distributed cluster with fault tolerance. RayTune leverages [Ray](https://ray.readthedocs.io/)'s Actor API to provide asynchronous parallel and distributed execution.\n",
        "\n",
        "Ray 'Actors' are a simple and clean abstraction for replicating your Python classes across multiple workers and nodes. Each hyperparameter evaluation is asynchronously executed on a separate Ray actor and reports intermediate training progress back to RayTune. Upon reporting, RayTune then uses this information to performs actions such as early termination, re-prioritization, or checkpointing."
      ]
    },
    {
      "cell_type": "code",
      "execution_count": null,
      "metadata": {
        "originalKey": "fe7a9417-4bde-46d2-9de3-af1bc73bde45"
      },
      "outputs": [],
      "source": [
        "import logging\n",
        "\n",
        "from ray import tune\n",
        "from ray.train import report\n",
        "from ray.tune.search.ax import AxSearch\n",
        "\n",
        "logger = logging.getLogger(tune.__name__)\n",
        "logger.setLevel(\n",
        "    level=logging.CRITICAL\n",
        ")  # Reduce the number of Ray warnings that are not relevant here."
      ]
    },
    {
      "cell_type": "code",
      "execution_count": null,
      "metadata": {
        "originalKey": "19956234-25ae-4e72-9d72-dbcd1b90e530"
      },
      "outputs": [],
      "source": [
        "import numpy as np\n",
        "import torch\n",
        "from ax.plot.contour import plot_contour\n",
        "from ax.plot.trace import optimization_trace_single_method\n",
        "from ax.service.ax_client import AxClient\n",
        "from ax.utils.notebook.plotting import init_notebook_plotting, render\n",
        "from ax.utils.tutorials.cnn_utils import CNN, evaluate, load_mnist, train\n",
        "\n",
        "init_notebook_plotting()"
      ]
    },
    {
      "attachments": {},
      "cell_type": "markdown",
      "metadata": {
        "originalKey": "a26e18f8-caa7-411d-809a-61a9229cd6c6"
      },
      "source": [
        "## 1. Initialize client\n",
        "We specify `enforce_sequential_optimization` as False, because Ray runs many trials in parallel. With the sequential optimization enforcement, `AxClient` would expect the first few trials to be completed with data before generating more trials.\n",
        "\n",
        "When high parallelism is not required, it is best to enforce sequential optimization, as it allows for achieving optimal results in fewer (but sequential) trials. In cases where parallelism is important, such as with distributed training using Ray, we choose to forego minimizing resource utilization and run more trials in parallel."
      ]
    },
    {
      "cell_type": "code",
      "execution_count": null,
      "metadata": {
        "originalKey": "a91e1cb2-999a-4b88-a2d2-85d0acaa8854"
      },
      "outputs": [],
      "source": [
        "ax = AxClient(enforce_sequential_optimization=False)"
      ]
    },
    {
      "attachments": {},
      "cell_type": "markdown",
      "metadata": {
        "originalKey": "1766919c-fb6f-4271-a8e1-6f972eee78f3"
      },
      "source": [
        "## 2. Set up experiment\n",
        "Here we set up the search space and specify the objective; refer to the Ax API tutorials for more detail."
      ]
    },
    {
      "cell_type": "code",
      "execution_count": null,
      "metadata": {
        "originalKey": "37e367d4-d09d-425b-98f7-c8849d9be4b7"
      },
      "outputs": [],
      "source": [
        "MINIMIZE = False  # Whether we should be minimizing or maximizing the objective"
      ]
    },
    {
      "cell_type": "code",
      "execution_count": null,
      "metadata": {
        "originalKey": "777c8d33-2cd1-4425-b45f-2a44922dce7d"
      },
      "outputs": [],
      "source": [
        "ax.create_experiment(\n",
        "    name=\"mnist_experiment\",\n",
        "    parameters=[\n",
        "        {\"name\": \"lr\", \"type\": \"range\", \"bounds\": [1e-6, 0.4], \"log_scale\": True},\n",
        "        {\"name\": \"momentum\", \"type\": \"range\", \"bounds\": [0.0, 1.0]},\n",
        "    ],\n",
        "    objective_name=\"mean_accuracy\",\n",
        "    minimize=MINIMIZE,\n",
        ")"
      ]
    },
    {
      "cell_type": "code",
      "execution_count": null,
      "metadata": {
        "originalKey": "589e4d80-02ae-461d-babc-0f96718f623e"
      },
      "outputs": [],
      "source": [
        "ax.experiment.optimization_config.objective.minimize"
      ]
    },
    {
      "cell_type": "code",
      "execution_count": null,
      "metadata": {
        "originalKey": "773a2c32-4ff3-4e92-8996-325504ce953e"
      },
      "outputs": [],
      "source": [
        "load_mnist(\n",
        "    data_path=\"~/.data\"\n",
        ")  # Pre-load the dataset before the initial evaluations are executed."
      ]
    },
    {
      "attachments": {},
      "cell_type": "markdown",
      "metadata": {
        "originalKey": "5fec848a-3538-489c-bcdd-a74051f48140"
      },
      "source": [
        "## 3. Define how to evaluate trials\n",
        "Since we use the Ax Service API here, we evaluate the parameterizations that Ax suggests, using RayTune. The evaluation function follows its usual pattern, taking in a parameterization and outputting an objective value. For detail on evaluation functions, see [Trial Evaluation](https://ax.dev/docs/runner.html). "
      ]
    },
    {
      "cell_type": "code",
      "execution_count": null,
      "metadata": {
        "originalKey": "75fce84d-35bd-45b5-b55e-f52baf26db03"
      },
      "outputs": [],
      "source": [
        "def train_evaluate(parameterization):\n",
        "    device = torch.device(\"cuda\" if torch.cuda.is_available() else \"cpu\")\n",
        "    train_loader, valid_loader, test_loader = load_mnist(data_path=\"~/.data\")\n",
        "    net = train(\n",
        "        net=CNN(),\n",
        "        train_loader=train_loader,\n",
        "        parameters=parameterization,\n",
        "        dtype=torch.float,\n",
        "        device=device,\n",
        "    )\n",
        "    report(\n",
        "        {\n",
        "            \"mean_accuracy\": evaluate(\n",
        "                net=net,\n",
        "                data_loader=valid_loader,\n",
        "                dtype=torch.float,\n",
        "                device=device,\n",
        "            )\n",
        "        }\n",
        "    )"
      ]
    },
    {
      "attachments": {},
      "cell_type": "markdown",
      "metadata": {
        "originalKey": "dda3574c-5967-43ea-8d23-7a151dc59ec9"
      },
      "source": [
        "## 4. Run optimization\n",
        "Execute the Ax optimization and trial evaluation in RayTune using [AxSearch algorithm](https://ray.readthedocs.io/en/latest/tune-searchalg.html#ax-search). \n",
        "We only run 10 trials for demonstration. It is generally recommended to run more trials for best results."
      ]
    },
    {
      "cell_type": "code",
      "execution_count": null,
      "metadata": {
        "code_folding": [],
        "hidden_ranges": [],
        "originalKey": "1d768bb2-d46b-4c4c-879e-3242af7555f4"
      },
      "outputs": [],
      "source": [
        "# Set up AxSearcher in RayTune\n",
        "algo = AxSearch(ax_client=ax)\n",
        "# Wrap AxSearcher in a concurrently limiter, to ensure that Bayesian optimization receives the\n",
        "# data for completed trials before creating more trials\n",
        "algo = tune.search.ConcurrencyLimiter(algo, max_concurrent=3)\n",
        "tune.run(\n",
        "    train_evaluate,\n",
        "    num_samples=10,\n",
        "    search_alg=algo,\n",
        "    verbose=0,  # Set this level to 1 to see status updates and to 2 to also see trial results.\n",
        "    # To use GPU, specify: resources_per_trial={\"gpu\": 1}.\n",
        ")"
      ]
    },
    {
      "attachments": {},
      "cell_type": "markdown",
      "metadata": {
        "originalKey": "cb00f812-e9e5-4208-a680-adf6619d74c4"
      },
      "source": [
        "## 5. Retrieve the optimization results"
      ]
    },
    {
      "cell_type": "code",
      "execution_count": null,
      "metadata": {
        "originalKey": "2ec54675-d0ad-4eac-aaf3-66b593037cce"
      },
      "outputs": [],
      "source": [
        "best_parameters, values = ax.get_best_parameters()\n",
        "best_parameters"
      ]
    },
    {
      "cell_type": "code",
      "execution_count": null,
      "metadata": {
        "originalKey": "50c764a6-a630-4935-9c07-ea84045e0ecc"
      },
      "outputs": [],
      "source": [
        "means, covariances = values\n",
        "means"
      ]
    },
    {
      "attachments": {},
      "cell_type": "markdown",
      "metadata": {
        "originalKey": "12a87817-4409-4f07-a912-8d60eff71d68"
      },
      "source": [
        "## 6. Plot the response surface and optimization trace"
      ]
    },
    {
      "cell_type": "code",
      "execution_count": null,
      "metadata": {
        "originalKey": "3742f35b-6b28-49ae-a606-a138459f4964",
        "scrolled": false
      },
      "outputs": [],
      "source": [
        "render(\n",
        "    plot_contour(\n",
        "        model=ax.generation_strategy.model,\n",
        "        param_x=\"lr\",\n",
        "        param_y=\"momentum\",\n",
        "        metric_name=\"mean_accuracy\",\n",
        "    )\n",
        ")"
      ]
    },
    {
      "cell_type": "code",
      "execution_count": null,
      "metadata": {
        "originalKey": "6dfd23ca-1c93-4846-8e85-4560f9e40304"
      },
      "outputs": [],
      "source": [
        "# `plot_single_method` expects a 2-d array of means, because it expects to average means from multiple\n",
        "# optimization runs, so we wrap out best objectives array in another array.\n",
        "best_objectives = np.array(\n",
        "    [[trial.objective_mean * 100 for trial in ax.experiment.trials.values()]]\n",
        ")\n",
        "best_objective_plot = optimization_trace_single_method(\n",
        "    y=np.maximum.accumulate(best_objectives, axis=1),\n",
        "    title=\"Model performance vs. # of iterations\",\n",
        "    ylabel=\"Accuracy\",\n",
        ")\n",
        "render(best_objective_plot)"
      ]
    }
  ],
  "metadata": {
    "kernelspec": {
      "display_name": "python3",
      "language": "python",
      "name": "python3"
    },
    "language_info": {
      "codemirror_mode": {
        "name": "ipython",
        "version": 3
      },
      "file_extension": ".py",
      "mimetype": "text/x-python",
      "name": "python",
      "nbconvert_exporter": "python",
      "pygments_lexer": "ipython3",
      "version": "3.9.15"
    }
  },
  "nbformat": 4,
  "nbformat_minor": 2
}
